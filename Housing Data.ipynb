{
 "cells": [
  {
   "cell_type": "code",
   "execution_count": 2,
   "metadata": {},
   "outputs": [],
   "source": [
    "import pandas as pd"
   ]
  },
  {
   "cell_type": "code",
   "execution_count": 5,
   "metadata": {
    "scrolled": true
   },
   "outputs": [
    {
     "name": "stdout",
     "output_type": "stream",
     "text": [
      "     fips2010  rent50_0  rent50_1  rent50_2  rent50_3  rent50_4  state  \\\n",
      "0  4805999999       761       789      1028      1383      1764     48   \n",
      "1  4825399999       761       789      1028      1383      1764     48   \n",
      "2  4844199999       761       789      1028      1383      1764     48   \n",
      "3  7200399999       401       414       472       602       720     72   \n",
      "4  7200599999       401       414       472       602       720     72   \n",
      "\n",
      "          cbsasub21                                areaname21  county  cousub  \\\n",
      "0  METRO10180M10180                           Abilene, TX MSA      59   99999   \n",
      "1  METRO10180M10180                           Abilene, TX MSA     253   99999   \n",
      "2  METRO10180M10180                           Abilene, TX MSA     441   99999   \n",
      "3  METRO10380M10380  Aguadilla-Isabela, PR HUD Metro FMR Area       3   99999   \n",
      "4  METRO10380M10380  Aguadilla-Isabela, PR HUD Metro FMR Area       5   99999   \n",
      "\n",
      "              cntyname                 name  pop2017  hu2017 state_alpha  \n",
      "0      Callahan County      Callahan County    13660    6637          TX  \n",
      "1         Jones County         Jones County    19970    7292          TX  \n",
      "2        Taylor County        Taylor County   135370   56978          TX  \n",
      "3     Aguada Municipio     Aguada Municipio    39470   17385          PR  \n",
      "4  Aguadilla Municipio  Aguadilla Municipio    55720   27301          PR  \n"
     ]
    }
   ],
   "source": [
    "url=\"https://www.huduser.gov/portal/datasets/50thper/FY2021_50_County.xlsx\"\n",
    "url_20=\"https://www.huduser.gov/portal/datasets/50thper/FY2020_50_County.xlsx\"\n",
    "url_19=\"https://www.huduser.gov/portal/datasets/50thper/FY2019_50_County.xlsx\"\n",
    "data_2021 = pd.read_excel(url, keep_default_na=False, na_values=[\"\"])\n",
    "data_2020 = pd.read_excel(url, keep_default_na=False, na_values=[\"\"])\n",
    "data_2019 = pd.read_excel(url, keep_default_na=False, na_values=[\"\"])\n",
    "\n",
    "print(c.head())"
   ]
  },
  {
   "cell_type": "code",
   "execution_count": null,
   "metadata": {},
   "outputs": [],
   "source": []
  }
 ],
 "metadata": {
  "kernelspec": {
   "display_name": "Python 3",
   "language": "python",
   "name": "python3"
  },
  "language_info": {
   "codemirror_mode": {
    "name": "ipython",
    "version": 3
   },
   "file_extension": ".py",
   "mimetype": "text/x-python",
   "name": "python",
   "nbconvert_exporter": "python",
   "pygments_lexer": "ipython3",
   "version": "3.8.3"
  }
 },
 "nbformat": 4,
 "nbformat_minor": 4
}
